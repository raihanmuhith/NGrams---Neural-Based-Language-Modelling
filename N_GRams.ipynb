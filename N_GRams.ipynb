{
 "cells": [
  {
   "cell_type": "code",
   "execution_count": 2,
   "metadata": {},
   "outputs": [],
   "source": [
    "from nltk import trigrams\n",
    "from collections import defaultdict\n",
    "import os\n",
    "import pandas as pd\n",
    "from nltk.corpus import reuters"
   ]
  },
  {
   "cell_type": "code",
   "execution_count": 45,
   "metadata": {},
   "outputs": [
    {
     "data": {
      "text/plain": [
       "[['ASIAN', 'EXPORTERS', 'FEAR', 'DAMAGE', 'FROM', 'U', '.', 'S', '.-', 'JAPAN', 'RIFT', 'Mounting', 'trade', 'friction', 'between', 'the', 'U', '.', 'S', '.', 'And', 'Japan', 'has', 'raised', 'fears', 'among', 'many', 'of', 'Asia', \"'\", 's', 'exporting', 'nations', 'that', 'the', 'row', 'could', 'inflict', 'far', '-', 'reaching', 'economic', 'damage', ',', 'businessmen', 'and', 'officials', 'said', '.'], ['They', 'told', 'Reuter', 'correspondents', 'in', 'Asian', 'capitals', 'a', 'U', '.', 'S', '.', 'Move', 'against', 'Japan', 'might', 'boost', 'protectionist', 'sentiment', 'in', 'the', 'U', '.', 'S', '.', 'And', 'lead', 'to', 'curbs', 'on', 'American', 'imports', 'of', 'their', 'products', '.'], ...]"
      ]
     },
     "execution_count": 45,
     "metadata": {},
     "output_type": "execute_result"
    }
   ],
   "source": [
    "reuters.sents()"
   ]
  },
  {
   "cell_type": "code",
   "execution_count": 46,
   "metadata": {},
   "outputs": [],
   "source": [
    "# Create a placeholder for model\n",
    "model = defaultdict(lambda: defaultdict(lambda: 0))\n",
    "\n",
    "# Count frequency of co-occurance  \n",
    "for sentence in reuters.sents():\n",
    "    for w1, w2, w3 in trigrams(sentence, pad_right=True, pad_left=True):\n",
    "        model[(w1, w2)][w3] += 1\n",
    "\n",
    "# Let's transform the counts to probabilities\n",
    "for w1_w2 in model:\n",
    "    total_count = float(sum(model[w1_w2].values()))\n",
    "    for w3 in model[w1_w2]:\n",
    "        model[w1_w2][w3] /= total_count\n"
   ]
  },
  {
   "cell_type": "code",
   "execution_count": 47,
   "metadata": {},
   "outputs": [
    {
     "data": {
      "text/plain": [
       "{'J': 0.02857142857142857,\n",
       " 'of': 0.2571428571428571,\n",
       " 'and': 0.14285714285714285,\n",
       " 'to': 0.11428571428571428,\n",
       " 'is': 0.05714285714285714,\n",
       " \"'\": 0.11428571428571428,\n",
       " 'had': 0.02857142857142857,\n",
       " '.': 0.02857142857142857,\n",
       " 'added': 0.02857142857142857,\n",
       " 'remains': 0.02857142857142857,\n",
       " 'was': 0.02857142857142857,\n",
       " 'said': 0.05714285714285714,\n",
       " '.\"': 0.05714285714285714,\n",
       " 'may': 0.02857142857142857}"
      ]
     },
     "execution_count": 47,
     "metadata": {},
     "output_type": "execute_result"
    }
   ],
   "source": [
    "dict(model[\"the\",\"president\"])"
   ]
  },
  {
   "cell_type": "code",
   "execution_count": 62,
   "metadata": {},
   "outputs": [
    {
     "name": "stdout",
     "output_type": "stream",
     "text": [
      "Input : 'the president'\n",
      "Output : the president and chief executive but will still be a major consideration .\n"
     ]
    }
   ],
   "source": [
    "import random\n",
    "\n",
    "# starting words\n",
    "text = [\"the\",\"president\"]\n",
    "sentence_finished = False\n",
    " \n",
    "# while not sentence_finished:\n",
    "while not sentence_finished:\n",
    "  # select a random probability threshold  \n",
    "  r = random.random()\n",
    "  accumulator = .0\n",
    "\n",
    "  for word in model[tuple(text[-2:])].keys():\n",
    "      accumulator += model[tuple(text[-2:])][word]\n",
    "      # select words that are above the probability threshold\n",
    "      if accumulator >= r:\n",
    "          text.append(word)\n",
    "          break\n",
    "\n",
    "  if text[-2:] == [None, None]:\n",
    "      sentence_finished = True\n",
    "\n",
    "print(\"Input : 'the president'\") \n",
    "print ('Output :',' '.join([t for t in text if t]))"
   ]
  },
  {
   "cell_type": "code",
   "execution_count": 87,
   "metadata": {},
   "outputs": [],
   "source": [
    "def generate_text(txt):\n",
    "\n",
    "    # starting words\n",
    "    sentence_finished = False\n",
    "\n",
    "    # while not sentence_finished:\n",
    "    while not sentence_finished:\n",
    "    # select a random probability threshold  \n",
    "        r = random.random()\n",
    "        accumulator = .0\n",
    "\n",
    "        for word in model[tuple(txt[-2:])].keys():\n",
    "            accumulator += model[tuple(txt[-2:])][word]\n",
    "            # select words that are above the probability threshold\n",
    "            if accumulator >= r:\n",
    "                txt.append(word)\n",
    "                break\n",
    "\n",
    "        if txt[-2:] == [None, None]:\n",
    "            sentence_finished = True\n",
    "\n",
    "    sentence = ' '.join([t for t in txt if t])\n",
    "    return sentence"
   ]
  },
  {
   "cell_type": "code",
   "execution_count": 92,
   "metadata": {},
   "outputs": [
    {
     "name": "stdout",
     "output_type": "stream",
     "text": [
      "Input : 'The President'\n",
      "Output : the president and general manager for economic growth after 1990 . \n",
      "\n",
      "Input : 'The Government'\n",
      "Output : the government ' s meeting was delayed up to 150 yen . \n",
      "\n",
      "Input : 'i like'\n",
      "Output :  {}\n"
     ]
    }
   ],
   "source": [
    "print(\"Input : 'The President'\")\n",
    "print('Output :',generate_text([\"the\",\"president\"]),'\\n')\n",
    "print(\"Input : 'The Government'\")\n",
    "print('Output :',generate_text([\"the\",\"government\"]),'\\n')\n",
    "print(\"Input : 'i like'\")\n",
    "print(\"Output : \",dict(model[\"i\",\"like\"]))\n"
   ]
  }
 ],
 "metadata": {
  "interpreter": {
   "hash": "6419bbe183347107210627827ce477e44052b921011beff7023ca9890353f6b5"
  },
  "kernelspec": {
   "display_name": "Python 3.10.1 64-bit",
   "language": "python",
   "name": "python3"
  },
  "language_info": {
   "codemirror_mode": {
    "name": "ipython",
    "version": 3
   },
   "file_extension": ".py",
   "mimetype": "text/x-python",
   "name": "python",
   "nbconvert_exporter": "python",
   "pygments_lexer": "ipython3",
   "version": "3.10.1"
  },
  "orig_nbformat": 4
 },
 "nbformat": 4,
 "nbformat_minor": 2
}
